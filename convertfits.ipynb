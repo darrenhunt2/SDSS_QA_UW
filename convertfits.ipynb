{
 "cells": [
  {
   "cell_type": "markdown",
   "metadata": {},
   "source": [
    "**.fits to .dat conversion:** \n",
    "\n",
    "This code takes in a .fits flat file, pulls data values along a user-specified column, and prints these values as an 18-place decimal into a .dat file under the same name as the flat file. A second function can check that all values are equivalent to a master .dat file, if existing. For the SDSS APOGEE master flat, this column value is 2952."
   ]
  },
  {
   "cell_type": "code",
   "execution_count": 1,
   "metadata": {},
   "outputs": [],
   "source": [
    "import numpy as np\n",
    "from astropy.io import fits  # open and read fits data"
   ]
  },
  {
   "cell_type": "code",
   "execution_count": 2,
   "metadata": {},
   "outputs": [],
   "source": [
    "def fits_convert(f,col):\n",
    "    \"\"\"Converts a .fits flat file into a .dat array.\n",
    "   \n",
    "    Parameters\n",
    "    ----------\n",
    "    f : str\n",
    "        Full file name of flat, must be .fits file\n",
    "    col : int\n",
    "        Columm to pull data from. For SDSS master flat, col=2952\n",
    "        \n",
    "    Prints to a .dat file with values along specified column\n",
    "    \"\"\"\n",
    "   \n",
    "    flat = fits.getdata(f)  # retrieve data from input fits image\n",
    "    w = flat.shape[0]  # get width of chip from the image size\n",
    "    out = open((f.rsplit('.',1)[0]+\".dat\"), 'w')  # name output file after input flat string, without .fits ext\n",
    "    \n",
    "    for i in range(w):\n",
    "        data = flat[(w-1)-i,col]  # pulls the relevant value along specified column for each pixel on the chip\n",
    "        decimal = '{:.18e}'.format(data)  # converts to a decimal format to 18 places before writing to .dat    \n",
    "        out.write(decimal + str(\"\\n\"))\n",
    "    out.close()"
   ]
  },
  {
   "cell_type": "code",
   "execution_count": 3,
   "metadata": {},
   "outputs": [],
   "source": [
    "def equivalency(f,m):\n",
    "    \"\"\"Compares .dat files for equivalency, can be used to determine if\n",
    "        there is user error in col parameter input. Converts all values to integers\n",
    "        for comparison.\n",
    "        \n",
    "    Parameters\n",
    "    ----------\n",
    "    f : str\n",
    "        Input .dat file for comparison\n",
    "    m : str\n",
    "        Master file to compare new .dat file values to\n",
    "    \"\"\"\n",
    "    \n",
    "    valf = np.float64(np.loadtxt(f))\n",
    "    valm = np.float64(np.loadtxt(m))\n",
    "    return (valf == valm).all()"
   ]
  },
  {
   "cell_type": "code",
   "execution_count": 4,
   "metadata": {},
   "outputs": [
    {
     "data": {
      "text/plain": [
       "True"
      ]
     },
     "execution_count": 4,
     "metadata": {},
     "output_type": "execute_result"
    }
   ],
   "source": [
    "fits_convert(\"asRaw-24960049.fits\",2952)\n",
    "equivalency(\"asRaw-24960049.dat\",\"masterflatcolarray.dat\")"
   ]
  },
  {
   "cell_type": "code",
   "execution_count": null,
   "metadata": {},
   "outputs": [],
   "source": []
  }
 ],
 "metadata": {
  "kernelspec": {
   "display_name": "Python 3",
   "language": "python",
   "name": "python3"
  },
  "language_info": {
   "codemirror_mode": {
    "name": "ipython",
    "version": 3
   },
   "file_extension": ".py",
   "mimetype": "text/x-python",
   "name": "python",
   "nbconvert_exporter": "python",
   "pygments_lexer": "ipython3",
   "version": "3.7.6"
  }
 },
 "nbformat": 4,
 "nbformat_minor": 4
}
